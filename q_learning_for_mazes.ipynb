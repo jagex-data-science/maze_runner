{
 "cells": [
  {
   "cell_type": "markdown",
   "metadata": {},
   "source": [
    "# Building your own maze-solving AI agent in Python"
   ]
  },
  {
   "cell_type": "markdown",
   "metadata": {},
   "source": [
    "Reinforcement learning (RL) is a subfield of machine learning/AI in which an agent acts in an environment and learns to maximise the total reward it receives. RL has gained fame from video game AIs that have learned to play [Atari games](https://deepmind.com/research/publications/playing-atari-deep-reinforcement-learning/), autonomous [helicopters that have learned to do some wild aerial manuevres](https://www.youtube.com/watch?v=VCdxqn0fcnE), and humanoid robots that have learned how to best [adjust limb positions and joint torques to stand up](https://gym.openai.com/envs/HumanoidStandup-v1) (sort of..) and even [walk and manoeuvre complex obstacle courses](https://www.youtube.com/watch?v=gn4nRCC9TwQ) (with only moderate crazy arm flailing). \n",
    "\n",
    "In this post, we want to make a reinforcement learning agent that can learn to escape a grid-like environment as quickly as possible. Although it's probably pretty trivial to code up solutions to solve mazes specifically, the point of using RL to solve the maze problem is that the technique is extremely generalisable - the Q learning approach explained here can be used to solve many diverse problems. So, although it might seem like we are using a very big hammer to smash quite a small fly, the idea is that once you understand RL in a small toy problem, you can begin to transfer the principles to more complex tasks. \n",
    "\n",
    "In our maze problem, there is a worm that needs to escape the maze as quickly as possible:\n",
    "\n",
    "![Basic maze](https://raw.githubusercontent.com/jagex-data-science/maze_runner/master/basic_maze.png)\n",
    "\n",
    "This is a pretty tame maze (nothing really on it - just +100 reward for getting to the end, and -1 everywhere else), so let's also make an advanced maze surrounded with dragon-filled lava (-100 reward, not good), a couple of perfectly-spherical trolls (-20 reward) and a treat (+20 reward, maybe a sugar cube... what do worms eat again?).\n",
    "\n",
    "![Advanced maze](https://raw.githubusercontent.com/jagex-data-science/maze_runner/master/advanced_maze.png)\n",
    "\n",
    "We'll use basic Python (+numpy/pandas) to allow the worm to learn how 'good' each state and action is - this goodness is represented by the values in the heatmap below. In this post, you'll see that the major trick is that these values incorporate information about potential future rewards leading on from that state. This means that once the agent knows these values (called Q values - we'll discuss), it can then make greedy decisions that maximise this value at each time step. This lets us solve simple grid worlds. We can then plot our trajectory within the grid world/maze, and the end result is a GIF sort of like this:  "
   ]
  },
  {
   "cell_type": "markdown",
   "metadata": {},
   "source": [
    "![Traversal](https://raw.githubusercontent.com/jagex-data-science/maze_runner/master/traversal_in_10_steps_random_p0.0.gif)"
   ]
  },
  {
   "cell_type": "markdown",
   "metadata": {},
   "source": [
    "If you just want the code to play around with, check out [this notebook](https://github.com/jagex-data-science/maze_runner/blob/master/maze_post_to_proofread.ipynb). The rest of the post will go through what the code is doing. In the next post, we'll make use of the code that is in place to do some experiments for seeing how changes to parameters (learning rate, exploration/exploitation trade-offs, number of episodes, episode length, on-policy/off-policy methods) affect our learned strategies. "
   ]
  },
  {
   "cell_type": "markdown",
   "metadata": {},
   "source": [
    "## The maze problem\n",
    "\n",
    "First let's introduce some language for talking about RL problems, and then get into the code.\n",
    "\n",
    "RL deals with sequential environments indexed by time points. We say that at any time point the worm can be in any number of ***states*** (the different squares on the grid) and can take various ***actions*** from each state (here, our action space is [left, right, up and down] - but in some spots, like corner states or next to obstacles, not all actions are available). Each state is associated with a ***reward*** $r$ - this is just a number, and is a property of the environment. So, we can make decisions about which action $a$ to take in a given state $s$ at time point $t$, and the environment gives a reward $r$ and puts us in a ***successor state*** $s'$. Each episode ends when the worm gets to ***terminal state*** - the end of the maze. Then, the worm is (cruelly) transported back to the beginning where it has to start again. Let's say there's no dying/respawning, so if you get into the lava you're punished severely (-100 reward) but you can still crawl out. "
   ]
  },
  {
   "cell_type": "markdown",
   "metadata": {},
   "source": [
    "### Rewards\n",
    "\n",
    "Let's start setting up the environment. We need a reward matrix. For the simple maze, the numpy reward matrix looks like this:"
   ]
  },
  {
   "cell_type": "code",
   "execution_count": 8,
   "metadata": {
    "collapsed": false
   },
   "outputs": [],
   "source": [
    "# imports + a bit of setup first\n",
    "import numpy as np\n",
    "import pandas as pd\n",
    "import seaborn as sns\n",
    "import matplotlib.pyplot as plt\n",
    "import random\n",
    "%matplotlib inline\n",
    "sns.set(font=\"monospace\")\n",
    "random.seed(42)\n",
    "\n",
    "# basic maze state rewards\n",
    "reward_matrix = np.array([[-1, -1, -1, -1, -1, -1],\n",
    "                          [-1, -1, -1, -1, -1, -1],\n",
    "                          [-1, -1, -1, -1, -1, -1],\n",
    "                          [-1, -1, -1, -1, -1, -1],\n",
    "                          [-1, -1, -1, -1, -1, -1],\n",
    "                          [-1, -1, -1, -1, -1, 100]])"
   ]
  },
  {
   "cell_type": "markdown",
   "metadata": {},
   "source": [
    "In the complicated maze, we've added a few other rewards, a lava moat, and a few obstacles (represented as rewards of 0). The numpy version is: "
   ]
  },
  {
   "cell_type": "code",
   "execution_count": 10,
   "metadata": {
    "collapsed": false
   },
   "outputs": [
    {
     "data": {
      "text/plain": [
       "array([[-100., -100., -100., -100., -100., -100., -100., -100.],\n",
       "       [-100.,   -1.,    0.,   -1.,   -1.,   -1.,   -1., -100.],\n",
       "       [-100.,   -1.,  -20.,   -1.,   20.,   -1.,   -1., -100.],\n",
       "       [-100.,   -1.,   -1.,   -1.,   -1.,   -1.,   -1., -100.],\n",
       "       [-100.,   -1.,    0.,   -1.,   -1.,  -20.,   -1., -100.],\n",
       "       [-100.,   -1.,   -1.,   -1.,    0.,   -1.,   -1., -100.],\n",
       "       [-100.,   -1.,   -1.,   -1.,    0.,   -1.,  100., -100.],\n",
       "       [-100., -100., -100., -100., -100., -100., -100., -100.]], dtype=float32)"
      ]
     },
     "execution_count": 10,
     "metadata": {},
     "output_type": "execute_result"
    }
   ],
   "source": [
    "# advanced maze state rewards\n",
    "reward_matrix = np.array([[-1,   0, -1,  -1,  -1,  -1],\n",
    "                          [-1, -20, -1,  20,  -1,  -1],\n",
    "                          [-1,  -1, -1,  -1,  -1,  -1],\n",
    "                          [-1,   0, -1,  -1, -20,  -1],\n",
    "                          [-1,  -1, -1,   0,  -1,  -1],\n",
    "                          [-1,  -1, -1,   0,  -1, 100]]).astype(\"float32\")\n",
    "\n",
    "reward_matrix = np.pad(reward_matrix, pad_width=1, mode='constant', constant_values=-100)\n",
    "reward_matrix"
   ]
  },
  {
   "cell_type": "markdown",
   "metadata": {},
   "source": [
    "Let's just stick to this more interesting matrix for now. \n",
    "\n",
    "The worm can go through the maze using four actions - up, down, left or right: "
   ]
  },
  {
   "cell_type": "code",
   "execution_count": 11,
   "metadata": {
    "collapsed": true
   },
   "outputs": [],
   "source": [
    "actions = np.array(['up', 'down', 'left', 'right'])"
   ]
  },
  {
   "cell_type": "markdown",
   "metadata": {},
   "source": [
    "And it's easy to see how these actions change your position in grid world."
   ]
  },
  {
   "cell_type": "code",
   "execution_count": 12,
   "metadata": {
    "collapsed": true
   },
   "outputs": [],
   "source": [
    "def move(current_state, action):\n",
    "    \n",
    "    next_state_x, next_state_y = current_state\n",
    "    \n",
    "    if action=='up':\n",
    "        next_state_x -=1\n",
    "    elif action=='down':\n",
    "        next_state_x +=1\n",
    "    elif action=='left':\n",
    "        next_state_y -=1\n",
    "    elif action=='right':\n",
    "        next_state_y +=1\n",
    "\n",
    "    return [next_state_x, next_state_y]"
   ]
  },
  {
   "cell_type": "markdown",
   "metadata": {},
   "source": [
    "For example, with numpy matrix indexing the upper left corner is [0, 0]. If we go right, this takes us to:"
   ]
  },
  {
   "cell_type": "code",
   "execution_count": 14,
   "metadata": {
    "collapsed": false
   },
   "outputs": [
    {
     "data": {
      "text/plain": [
       "[0, 1]"
      ]
     },
     "execution_count": 14,
     "metadata": {},
     "output_type": "execute_result"
    }
   ],
   "source": [
    "move([0,0], 'right')"
   ]
  },
  {
   "cell_type": "markdown",
   "metadata": {},
   "source": [
    "And if we're in the bottom right corner [7, 7] and we go up:"
   ]
  },
  {
   "cell_type": "code",
   "execution_count": 15,
   "metadata": {
    "collapsed": false
   },
   "outputs": [
    {
     "data": {
      "text/plain": [
       "[6, 7]"
      ]
     },
     "execution_count": 15,
     "metadata": {},
     "output_type": "execute_result"
    }
   ],
   "source": [
    "move([7,7], 'up')"
   ]
  },
  {
   "cell_type": "markdown",
   "metadata": {},
   "source": [
    "We can make a little function to get the possible actions based on current position - usually we can go any of the 4 directions, unless we're at the edge of the grid or next to an obstacle (obstacles are where the reward matrix has a value of 0, remember):"
   ]
  },
  {
   "cell_type": "code",
   "execution_count": 18,
   "metadata": {
    "collapsed": false
   },
   "outputs": [],
   "source": [
    "def get_possible_actions(current_state, possible_actions=actions, reward_matrix=reward_matrix):\n",
    "\n",
    "    nrows, ncols = reward_matrix.shape\n",
    "    x, y = current_state\n",
    "    \n",
    "    # checking first for grid corners\n",
    "    # then for obstacles (where reward==0)\n",
    "    if y==ncols-1 or reward_matrix[x, y+1]==0:\n",
    "        possible_actions = np.setdiff1d(possible_actions, 'right')\n",
    "    if y==0 or reward_matrix[x, y-1]==0:\n",
    "        possible_actions = np.setdiff1d(possible_actions, 'left')\n",
    "    if x==0 or reward_matrix[x-1, y]==0:\n",
    "        possible_actions = np.setdiff1d(possible_actions, 'up')\n",
    "    if x==nrows-1 or reward_matrix[x+1, y]==0:\n",
    "        possible_actions = np.setdiff1d(possible_actions, 'down')\n",
    "        \n",
    "    return possible_actions"
   ]
  },
  {
   "cell_type": "markdown",
   "metadata": {},
   "source": [
    "So, the possible actions in the lava corner [0,0] (take a look at the original grid) are:"
   ]
  },
  {
   "cell_type": "code",
   "execution_count": 19,
   "metadata": {
    "collapsed": false
   },
   "outputs": [
    {
     "data": {
      "text/plain": [
       "array(['down', 'right'], \n",
       "      dtype='|S5')"
      ]
     },
     "execution_count": 19,
     "metadata": {},
     "output_type": "execute_result"
    }
   ],
   "source": [
    "get_possible_actions([0,0])"
   ]
  },
  {
   "cell_type": "markdown",
   "metadata": {},
   "source": [
    "And the possible actions reflect the presence of obstacles, like in the position [4,3] where we can't go left:"
   ]
  },
  {
   "cell_type": "code",
   "execution_count": 20,
   "metadata": {
    "collapsed": false
   },
   "outputs": [
    {
     "data": {
      "text/plain": [
       "array(['down', 'right', 'up'], \n",
       "      dtype='|S5')"
      ]
     },
     "execution_count": 20,
     "metadata": {},
     "output_type": "execute_result"
    }
   ],
   "source": [
    "get_possible_actions([4,3])"
   ]
  },
  {
   "cell_type": "markdown",
   "metadata": {},
   "source": [
    "And sometimes we have both edge cases and obstacles to restrict our movement:"
   ]
  },
  {
   "cell_type": "code",
   "execution_count": 21,
   "metadata": {
    "collapsed": false
   },
   "outputs": [
    {
     "data": {
      "text/plain": [
       "array(['left', 'right'], \n",
       "      dtype='|S5')"
      ]
     },
     "execution_count": 21,
     "metadata": {},
     "output_type": "execute_result"
    }
   ],
   "source": [
    "get_possible_actions([7,4])"
   ]
  },
  {
   "cell_type": "markdown",
   "metadata": {},
   "source": [
    "Ok, so now we have figured out how the worm can move on the grid. The interesting part is learning how good it is for the worm to be in any state and take some action, so let's start diving into this. "
   ]
  },
  {
   "cell_type": "markdown",
   "metadata": {},
   "source": [
    "### Some of the maths behind the problem\n",
    "\n",
    "This section isn't really crucial to the post so feel free to skip it, but I recently learned Latex so I've got an itch to type equations. \n",
    "\n",
    "As the worm goes through the maze, it will acquire a string of rewards. It will get some reward for time step $t$, $t+1$, $t+2$ and so on. The total reward in an episode (the **return $G_t$** from time point $t$ onwards) is just the sum:\n",
    "\n",
    "\\begin{align*}\n",
    "    G_t = R_{t+1} + R_{t+2} + R_{t+3} \\ ... \\ + R_{n} = \\sum_{t}^n R_{t+1}\n",
    "\\end{align*}\n",
    "\n",
    "We want to encode some preference for immediate rewards, with future rewards being worth less because they are more uncertain and we generally have a preference towards recency. We can do this with **gamma discounting** - the parameter $\\gamma$ controls our preference for immediate versus long-term rewards. \n",
    "\n",
    "\\begin{align*}\n",
    "    G_t = R_{t+1} + \\gamma R_{t+2} + \\gamma^2 R_{t+3} + \\gamma^3 R_{t+4} + \\ ... \\ = \\sum_{k=0}^{\\inf} \\gamma^k R_{t+k+1}\n",
    "\\end{align*}\n",
    "\n",
    "The gamma parameter can be any value between 0 and 1. At the extremes, if $\\gamma$==0, then we are only interested in the most immediate rewards (all rewards after time $t$ are multiplied by 0 and disappear); if $\\gamma$==1, then we are equally as interested in far away future rewards we are in the most immediate reward. So, this introduces a judgement where we prefer immediate reward (unless $\\gamma$ is 1). If we set our discount factor to be $\\gamma$=0.5, this would mean that we halve the amount we care about returns at each step. Notice that the very next reward $R_{t+1}$ isn't discounted by $\\gamma$.\n",
    "\n",
    "The **value of a state** $v(s)$ is actually defined as the expectation of the return when you start in that state: \n",
    "\n",
    "\\begin{align*}\n",
    "    v(s) = \\mathbb{E}[G_t \\ | \\ S_t=s]\n",
    "\\end{align*}\n",
    "\n",
    "So, how good a particular state is depends on how much reward you expect to get in the future leading on from the state. Let's substitute the definition of $G_t$ back in:\n",
    "\n",
    "\\begin{align*}\n",
    "    v(s) =& \\mathbb{E}[R_{t+1} + \\gamma R_{t+2} + \\gamma ^2 R_{t+3} + ... \\ | \\ S_t = s]\n",
    "\\end{align*}\n",
    "   \n",
    "    \n",
    "You might have noticed that the equation for the return $G_t$ has a bit of a recursive structure. It's made up of two parts - the immediate reward $R_{t+1}$ and the discounted rewards for $t+2$ onwards (i.e. $\\gamma R_{t+2} + \\gamma ^2 R_{t+3} + ... $). But, this second part is just the $\\gamma$ times the rewards for the next time step onwards!\n",
    "\n",
    "\\begin{align*}\n",
    "    v(s) =& \\ \\mathbb{E} [G_t \\ | \\ S_t = s] \\\\\n",
    "         =& \\  \\mathbb{E} [R_{t+1} + \\gamma R_{t+2} + \\gamma ^2 R_{t+3} + ... \\ | \\ S_t = s] \\\\\n",
    "         =& \\ \\mathbb{E} [R_{t+1} + \\gamma (R_{t+2} + \\gamma R_{t+3} + ... ) \\ | \\ S_t = s] \\\\\n",
    "         =& \\ \\mathbb{E} [R_{t+1} + \\gamma (G_{t+1}) \\ | \\ S_t = s] \n",
    "\\end{align*}\n",
    "\n",
    "In the expanded definition of $G_t$, if we factorise out the $\\gamma$ discounting factor, you can see that $\\gamma (R_{t+2} + \\gamma R_{t+3} + ... $ is simply $\\gamma$ times the value function of the next state $t+1$ ($G_{t+1}$). \n",
    "In other words, the value function is recursively defined (this is a version of the [Bellman Equation](https://en.wikipedia.org/wiki/Bellman_equation)). \n",
    "\n",
    "tl;dr The point of this section is to emphasise that the value of a state depends on the rewards you expect to see in future states after it. We'll use this idea to solve the maze."
   ]
  },
  {
   "cell_type": "markdown",
   "metadata": {},
   "source": [
    "### How should the worm solve the maze?\n",
    "\n",
    "Intuitively, for each state we find ourselves in, we want to choose the action that maximises future cumulative reward. If at every point, we knew what the best possible action was (the one that is going to maximise future cumulative reward), then we've solved the problem. We would just go ahead and take the best action at all times. Because the biggest reward is at the end of the maze, these 'best actions' should gradually take us closer to our ultimate goal of escape.\n",
    "\n",
    "This means that the problem the worm actually has to solve is estimating how good it is to take different actions in each state. It has no prior knowledge or model of the environment - to learn these estimates, it'll just have to explore around and gradually build up information.\n",
    "\n",
    "Formally, these estimates are ***utility*** values or **Q values**. For each state $s$ and action $a$ available in that state, there is a corresponding $Q(s,a)$ we want to learn. These utility values tell us how good an action is in a given state. It's defined as the immediate reward you get for making an action (this is the $r(s,a)$ part), plus the best/max utility you can get from the next state, the successor state $s'$:\n",
    "\n",
    "\\begin{align*}\n",
    "    Q(s,a) =& \\ r(s,a) + \\gamma \\max_{a'} Q(s', a')\n",
    "\\end{align*}\n",
    "\n",
    "Initially, when we enter the maze for the first time, we have no idea what these Q values are. We could initialise all values with 0 or with some random small number (e.g. between 0 and 0.1). This is a bit abstract... looking at a concrete example helps. The below function will generate a starting Q table (pass `use_zero=True` to initialise with zeros if you prefer):"
   ]
  },
  {
   "cell_type": "code",
   "execution_count": 22,
   "metadata": {
    "collapsed": true
   },
   "outputs": [],
   "source": [
    "def initialise_q_table(reward_matrix, obstacle_list = ['[1, 2]', '[4, 2]', '[5, 4]', '[6, 4]'], use_zero=False):\n",
    "    \n",
    "    nrows, ncols = reward_matrix.shape\n",
    "    \n",
    "    # get possible states and actions\n",
    "    states = pd.DataFrame([[[x, y]] for x in range(nrows) for y in range(ncols)], columns=['state'])\n",
    "    states['str_state'] = [str(state) for state in states['state']]\n",
    "    states['actions'] = [get_possible_actions(state) for state in states['state']]\n",
    "\n",
    "    # clean up actions, one row per possible action\n",
    "    clean_actions = pd.DataFrame(states['actions'].apply(pd.Series, 1).stack(), columns=['action'])\n",
    "    clean_actions.index = clean_actions.index.droplevel(-1)\n",
    "    states = states.join([clean_actions]).drop('actions', axis=1)\n",
    "\n",
    "    # initiate values to be 0 or random small numbers\n",
    "    if use_zero:\n",
    "        states['value'] = 0\n",
    "    else:\n",
    "        states['value'] = np.random.uniform(-0.1,0.1,states.shape[0])\n",
    "        states.loc[states['str_state'].isin(obstacle_list), 'value'] = 0\n",
    "        \n",
    "    return states"
   ]
  },
  {
   "cell_type": "markdown",
   "metadata": {},
   "source": [
    "And to see what this table looks like..."
   ]
  },
  {
   "cell_type": "code",
   "execution_count": 24,
   "metadata": {
    "collapsed": false
   },
   "outputs": [
    {
     "data": {
      "text/html": [
       "<div>\n",
       "<table border=\"1\" class=\"dataframe\">\n",
       "  <thead>\n",
       "    <tr style=\"text-align: right;\">\n",
       "      <th></th>\n",
       "      <th>state</th>\n",
       "      <th>str_state</th>\n",
       "      <th>action</th>\n",
       "      <th>value</th>\n",
       "    </tr>\n",
       "  </thead>\n",
       "  <tbody>\n",
       "    <tr>\n",
       "      <th>0</th>\n",
       "      <td>[0, 0]</td>\n",
       "      <td>[0, 0]</td>\n",
       "      <td>down</td>\n",
       "      <td>0.027180</td>\n",
       "    </tr>\n",
       "    <tr>\n",
       "      <th>0</th>\n",
       "      <td>[0, 0]</td>\n",
       "      <td>[0, 0]</td>\n",
       "      <td>right</td>\n",
       "      <td>-0.067134</td>\n",
       "    </tr>\n",
       "    <tr>\n",
       "      <th>1</th>\n",
       "      <td>[0, 1]</td>\n",
       "      <td>[0, 1]</td>\n",
       "      <td>down</td>\n",
       "      <td>0.062914</td>\n",
       "    </tr>\n",
       "    <tr>\n",
       "      <th>1</th>\n",
       "      <td>[0, 1]</td>\n",
       "      <td>[0, 1]</td>\n",
       "      <td>left</td>\n",
       "      <td>0.018047</td>\n",
       "    </tr>\n",
       "    <tr>\n",
       "      <th>1</th>\n",
       "      <td>[0, 1]</td>\n",
       "      <td>[0, 1]</td>\n",
       "      <td>right</td>\n",
       "      <td>0.043544</td>\n",
       "    </tr>\n",
       "    <tr>\n",
       "      <th>2</th>\n",
       "      <td>[0, 2]</td>\n",
       "      <td>[0, 2]</td>\n",
       "      <td>left</td>\n",
       "      <td>0.073449</td>\n",
       "    </tr>\n",
       "    <tr>\n",
       "      <th>2</th>\n",
       "      <td>[0, 2]</td>\n",
       "      <td>[0, 2]</td>\n",
       "      <td>right</td>\n",
       "      <td>0.010102</td>\n",
       "    </tr>\n",
       "    <tr>\n",
       "      <th>3</th>\n",
       "      <td>[0, 3]</td>\n",
       "      <td>[0, 3]</td>\n",
       "      <td>down</td>\n",
       "      <td>-0.064253</td>\n",
       "    </tr>\n",
       "    <tr>\n",
       "      <th>3</th>\n",
       "      <td>[0, 3]</td>\n",
       "      <td>[0, 3]</td>\n",
       "      <td>left</td>\n",
       "      <td>-0.048198</td>\n",
       "    </tr>\n",
       "    <tr>\n",
       "      <th>3</th>\n",
       "      <td>[0, 3]</td>\n",
       "      <td>[0, 3]</td>\n",
       "      <td>right</td>\n",
       "      <td>0.057700</td>\n",
       "    </tr>\n",
       "    <tr>\n",
       "      <th>4</th>\n",
       "      <td>[0, 4]</td>\n",
       "      <td>[0, 4]</td>\n",
       "      <td>down</td>\n",
       "      <td>-0.047624</td>\n",
       "    </tr>\n",
       "    <tr>\n",
       "      <th>4</th>\n",
       "      <td>[0, 4]</td>\n",
       "      <td>[0, 4]</td>\n",
       "      <td>left</td>\n",
       "      <td>-0.000862</td>\n",
       "    </tr>\n",
       "    <tr>\n",
       "      <th>4</th>\n",
       "      <td>[0, 4]</td>\n",
       "      <td>[0, 4]</td>\n",
       "      <td>right</td>\n",
       "      <td>0.018079</td>\n",
       "    </tr>\n",
       "    <tr>\n",
       "      <th>5</th>\n",
       "      <td>[0, 5]</td>\n",
       "      <td>[0, 5]</td>\n",
       "      <td>down</td>\n",
       "      <td>-0.039389</td>\n",
       "    </tr>\n",
       "    <tr>\n",
       "      <th>5</th>\n",
       "      <td>[0, 5]</td>\n",
       "      <td>[0, 5]</td>\n",
       "      <td>left</td>\n",
       "      <td>-0.031903</td>\n",
       "    </tr>\n",
       "    <tr>\n",
       "      <th>5</th>\n",
       "      <td>[0, 5]</td>\n",
       "      <td>[0, 5]</td>\n",
       "      <td>right</td>\n",
       "      <td>-0.096987</td>\n",
       "    </tr>\n",
       "    <tr>\n",
       "      <th>6</th>\n",
       "      <td>[0, 6]</td>\n",
       "      <td>[0, 6]</td>\n",
       "      <td>down</td>\n",
       "      <td>0.095634</td>\n",
       "    </tr>\n",
       "    <tr>\n",
       "      <th>6</th>\n",
       "      <td>[0, 6]</td>\n",
       "      <td>[0, 6]</td>\n",
       "      <td>left</td>\n",
       "      <td>0.038515</td>\n",
       "    </tr>\n",
       "    <tr>\n",
       "      <th>6</th>\n",
       "      <td>[0, 6]</td>\n",
       "      <td>[0, 6]</td>\n",
       "      <td>right</td>\n",
       "      <td>-0.043286</td>\n",
       "    </tr>\n",
       "    <tr>\n",
       "      <th>7</th>\n",
       "      <td>[0, 7]</td>\n",
       "      <td>[0, 7]</td>\n",
       "      <td>down</td>\n",
       "      <td>-0.037372</td>\n",
       "    </tr>\n",
       "  </tbody>\n",
       "</table>\n",
       "</div>"
      ],
      "text/plain": [
       "    state str_state action     value\n",
       "0  [0, 0]    [0, 0]   down  0.027180\n",
       "0  [0, 0]    [0, 0]  right -0.067134\n",
       "1  [0, 1]    [0, 1]   down  0.062914\n",
       "1  [0, 1]    [0, 1]   left  0.018047\n",
       "1  [0, 1]    [0, 1]  right  0.043544\n",
       "2  [0, 2]    [0, 2]   left  0.073449\n",
       "2  [0, 2]    [0, 2]  right  0.010102\n",
       "3  [0, 3]    [0, 3]   down -0.064253\n",
       "3  [0, 3]    [0, 3]   left -0.048198\n",
       "3  [0, 3]    [0, 3]  right  0.057700\n",
       "4  [0, 4]    [0, 4]   down -0.047624\n",
       "4  [0, 4]    [0, 4]   left -0.000862\n",
       "4  [0, 4]    [0, 4]  right  0.018079\n",
       "5  [0, 5]    [0, 5]   down -0.039389\n",
       "5  [0, 5]    [0, 5]   left -0.031903\n",
       "5  [0, 5]    [0, 5]  right -0.096987\n",
       "6  [0, 6]    [0, 6]   down  0.095634\n",
       "6  [0, 6]    [0, 6]   left  0.038515\n",
       "6  [0, 6]    [0, 6]  right -0.043286\n",
       "7  [0, 7]    [0, 7]   down -0.037372"
      ]
     },
     "execution_count": 24,
     "metadata": {},
     "output_type": "execute_result"
    }
   ],
   "source": [
    "q = initialise_q_table(reward_matrix, use_zero=False)\n",
    "q.head(20)"
   ]
  },
  {
   "cell_type": "markdown",
   "metadata": {},
   "source": [
    "So, we are storing our estimates of $Q(s,a)$ in a table, with one value for each state we can be in and each action we can take in that state. \n",
    "\n",
    "For example, the current (randomly generated) Q value associated with starting in position [0,0] on the grid (in lava, actually) and taking action 'down' is 0.027180, and going right is -0.067134. These are random numbers, but if these were actually learned, then this would be useful information when deciding whether to go down or right from [0,0] - probably go down. \n",
    "\n",
    "Just to recap where we are so far, let's draw our reward grid and this gibberish grid of randomised Q values: "
   ]
  },
  {
   "cell_type": "code",
   "execution_count": 25,
   "metadata": {
    "collapsed": false
   },
   "outputs": [],
   "source": [
    "def plot_q_values(q, reward_matrix, plot_reward=False, save_q_plot=True, t=0, episode=0):\n",
    "    \n",
    "    nrows, ncols = reward_matrix.shape\n",
    "    avg_q_value_by_state = q.groupby('str_state')['value'].mean().values.reshape(nrows,ncols)\n",
    "\n",
    "    if plot_reward==True:\n",
    "        fig, (ax1, ax2) = plt.subplots(ncols=2)\n",
    "        sns.heatmap(reward_matrix, ax=ax1)\n",
    "        sns.heatmap(avg_q_value_by_state, ax=ax2)\n",
    "        fig.set_size_inches(16, 6)\n",
    "    else: \n",
    "        plt.figure(figsize=(7,6))\n",
    "        heatmap = sns.heatmap(avg_q_value_by_state)        \n",
    "        if save_q_plot:\n",
    "            heatmap.get_figure().savefig('/Users/natasha_latysheva/Projects/jagex_data_science_blog/avg_q_value_episode_' \\\n",
    "                                         + str(episode) + '_time_' + str(t) + '.png')"
   ]
  },
  {
   "cell_type": "code",
   "execution_count": 26,
   "metadata": {
    "collapsed": false
   },
   "outputs": [
    {
     "data": {
      "image/png": "[encoded data removed]",
      "text/plain": [
       "<matplotlib.figure.Figure at 0x110c4e7d0>"
      ]
     },
     "metadata": {},
     "output_type": "display_data"
    }
   ],
   "source": [
    "plot_q_values(q, reward_matrix, plot_reward=True, save_q_plot=True, t=0, episode=0)"
   ]
  },
  {
   "cell_type": "markdown",
   "metadata": {},
   "source": [
    "The left hand plot is the reward grid, which looks like what we'd expect (check out the initial figure of the maze at the top of this post). And yup, the right hand plot (Q values) looks pretty random. A little bit [Mondrian](https://www.google.co.uk/search?q=mondrian+paintings&source=lnms&tbm=isch&sa=X&ved=0ahUKEwjP2dPs4NvUAhWDPBQKHXSSAM4Q_AUICigB&biw=2100&bih=1127)?\n",
    "\n",
    "How do we move beyond random Q values? How do we learn useful Q values that can help us navigate a maze? For that, we'll need to do some ***Q learning*** (of [DeepMind Atari fame](https://www.cs.toronto.edu/~vmnih/docs/dqn.pdf)). There's actually many different varieties of Q-learning, and here we have a special simple case where there are very few, discrete states and actions (this is a tabular method), we aren't doing any feature extraction from the environment (e.g. no [deep convnets for Q learning](https://vmayoral.github.io/robots,/ai,/deep/learning,/rl,/reinforcement/learning/2016/08/07/deep-convolutional-q-learning/)), and we aren't keeping any sort of running memory (e.g. [eligibility traces](https://mpatacchiola.github.io/blog/2017/01/29/dissecting-reinforcement-learning-3.html))."
   ]
  },
  {
   "cell_type": "markdown",
   "metadata": {},
   "source": [
    "### Q function update rule\n",
    "\n",
    "We will learn the real Q values iteratively using a simple update rule. Basically, to update $Q(s, a)$ at time $t$ (so, $Q(s_t, a_t)$), we will do a one step look ahead and find the maximum Q value you could immediately get from that successor state. In other words we peek ahead one step and find the estimate of the optimal future state. This is $\\max_{a} Q(s_{t+1}, a_t)$. \n",
    "\n",
    "More precisely, we take our previous Q value $Q(s_t, a_t)$ for a state-action pair at time t, and make the following update:\n",
    "\n",
    "\\begin{align*}\n",
    "    Q(s_t, a_t) = Q(s_t, a_t) + \\alpha*\\big(r_{t+1} + \\gamma*  max_a Q(s_{t+1}, a_t) -  Q(s_t, a_t)\\big)   \n",
    "\\end{align*}\n",
    "\n",
    "The alpha parameter $\\alpha$ controls your learning rate (higher values weight new information higher, which overwrites old information more). As mentioned before, the gamma parameter $\\gamma$ (the 'discount factor') controls how much we prefer recent rewards to far-away rewards - if it's 0, we only ever care about immediate rewards, and if it's 1, we care about very distant rewards exactly as much as recent ones. You can change up alpha and gamma in clever ways as the algorithm trains but we'll just set them to... 0.8. :)\n",
    "\n",
    "It's interesting to note that if you set alpha to 1.0 then the update rule becomes very short:\n",
    "\n",
    "\\begin{align*}\n",
    "    Q(s_t, a_t) = r_{t+1} + \\gamma*  max_a Q(s_{t+1}, a_t)    \n",
    "\\end{align*}\n",
    "\n",
    "This is a recursive definition, since the current Q value depends on the immediate reward plus the discounted maximum future Q value. In this way, the $Q(s,a)$ estimates take into account the Q values of future states. The values will gradually converge after many iterations (often surprisingly few iterations), as information about future rewards eventually trickles back to the value estimates of states at the beginning of the maze. This will become clear through the code examples.\n",
    "\n",
    "The code for doing just one Q update is:"
   ]
  },
  {
   "cell_type": "code",
   "execution_count": 28,
   "metadata": {
    "collapsed": true
   },
   "outputs": [],
   "source": [
    "def update_q_value(q, current_state, next_state, action, alpha, gamma, terminal_state, verbose=False):\n",
    "    \n",
    "    # make move and collect immediate reward\n",
    "    reward = reward_matrix[next_state[0], next_state[1]]\n",
    "    \n",
    "    # the current q for the state + action we just took\n",
    "    current_q = q.loc[((q['str_state']==str(current_state)) & (q['action']==action)), 'value'].values[0]\n",
    "        \n",
    "    # get maximum q value leading on from next_state\n",
    "    max_future_q_value = np.max(q[q['str_state']==str(next_state)]['value'])\n",
    "    \n",
    "    # q value update rule\n",
    "    new_q = current_q + alpha*(reward + gamma*max_future_q_value - current_q)\n",
    "     \n",
    "    # update relevant value in q table\n",
    "    q.loc[((q['str_state']==str(current_state)) & (q['action']==action)), 'value'] = new_q\n",
    "    \n",
    "    # if next state is the terminal state, update that q value to reward\n",
    "    if np.array_equal(next_state, terminal_state):\n",
    "        q.loc[(q['str_state']==str(next_state)), 'value'] = 100\n",
    "\n",
    "    if verbose:\n",
    "        print 'Q of state {0} taking action \"{1}\" was updated from {2} to {3}'.format(current_state, action, current_q, new_q)\n",
    "\n",
    "    return reward"
   ]
  },
  {
   "cell_type": "markdown",
   "metadata": {},
   "source": [
    "Let's use this function to do a one step update. Remember this was our randomly-generated q table so far:"
   ]
  },
  {
   "cell_type": "code",
   "execution_count": 30,
   "metadata": {
    "collapsed": false
   },
   "outputs": [
    {
     "data": {
      "text/html": [
       "<div>\n",
       "<table border=\"1\" class=\"dataframe\">\n",
       "  <thead>\n",
       "    <tr style=\"text-align: right;\">\n",
       "      <th></th>\n",
       "      <th>state</th>\n",
       "      <th>str_state</th>\n",
       "      <th>action</th>\n",
       "      <th>value</th>\n",
       "    </tr>\n",
       "  </thead>\n",
       "  <tbody>\n",
       "    <tr>\n",
       "      <th>0</th>\n",
       "      <td>[0, 0]</td>\n",
       "      <td>[0, 0]</td>\n",
       "      <td>down</td>\n",
       "      <td>0.027180</td>\n",
       "    </tr>\n",
       "    <tr>\n",
       "      <th>0</th>\n",
       "      <td>[0, 0]</td>\n",
       "      <td>[0, 0]</td>\n",
       "      <td>right</td>\n",
       "      <td>-0.067134</td>\n",
       "    </tr>\n",
       "    <tr>\n",
       "      <th>1</th>\n",
       "      <td>[0, 1]</td>\n",
       "      <td>[0, 1]</td>\n",
       "      <td>down</td>\n",
       "      <td>0.062914</td>\n",
       "    </tr>\n",
       "    <tr>\n",
       "      <th>1</th>\n",
       "      <td>[0, 1]</td>\n",
       "      <td>[0, 1]</td>\n",
       "      <td>left</td>\n",
       "      <td>0.018047</td>\n",
       "    </tr>\n",
       "    <tr>\n",
       "      <th>1</th>\n",
       "      <td>[0, 1]</td>\n",
       "      <td>[0, 1]</td>\n",
       "      <td>right</td>\n",
       "      <td>0.043544</td>\n",
       "    </tr>\n",
       "    <tr>\n",
       "      <th>2</th>\n",
       "      <td>[0, 2]</td>\n",
       "      <td>[0, 2]</td>\n",
       "      <td>left</td>\n",
       "      <td>0.073449</td>\n",
       "    </tr>\n",
       "    <tr>\n",
       "      <th>2</th>\n",
       "      <td>[0, 2]</td>\n",
       "      <td>[0, 2]</td>\n",
       "      <td>right</td>\n",
       "      <td>0.010102</td>\n",
       "    </tr>\n",
       "    <tr>\n",
       "      <th>3</th>\n",
       "      <td>[0, 3]</td>\n",
       "      <td>[0, 3]</td>\n",
       "      <td>down</td>\n",
       "      <td>-0.064253</td>\n",
       "    </tr>\n",
       "    <tr>\n",
       "      <th>3</th>\n",
       "      <td>[0, 3]</td>\n",
       "      <td>[0, 3]</td>\n",
       "      <td>left</td>\n",
       "      <td>-0.048198</td>\n",
       "    </tr>\n",
       "    <tr>\n",
       "      <th>3</th>\n",
       "      <td>[0, 3]</td>\n",
       "      <td>[0, 3]</td>\n",
       "      <td>right</td>\n",
       "      <td>0.057700</td>\n",
       "    </tr>\n",
       "  </tbody>\n",
       "</table>\n",
       "</div>"
      ],
      "text/plain": [
       "    state str_state action     value\n",
       "0  [0, 0]    [0, 0]   down  0.027180\n",
       "0  [0, 0]    [0, 0]  right -0.067134\n",
       "1  [0, 1]    [0, 1]   down  0.062914\n",
       "1  [0, 1]    [0, 1]   left  0.018047\n",
       "1  [0, 1]    [0, 1]  right  0.043544\n",
       "2  [0, 2]    [0, 2]   left  0.073449\n",
       "2  [0, 2]    [0, 2]  right  0.010102\n",
       "3  [0, 3]    [0, 3]   down -0.064253\n",
       "3  [0, 3]    [0, 3]   left -0.048198\n",
       "3  [0, 3]    [0, 3]  right  0.057700"
      ]
     },
     "execution_count": 30,
     "metadata": {},
     "output_type": "execute_result"
    }
   ],
   "source": [
    "q.head(10)"
   ]
  },
  {
   "cell_type": "markdown",
   "metadata": {},
   "source": [
    "Say we start in [0,0] and take one step to the right, to cell [0,1]. How would the `Q(s=[0,0], a='right')` be be updated from -0.067134 after this one move? This move actually puts us into a lava cell on the grid, so we hope that the negativity of this would be reflected in the updated value..."
   ]
  },
  {
   "cell_type": "code",
   "execution_count": 31,
   "metadata": {
    "collapsed": false
   },
   "outputs": [
    {
     "name": "stdout",
     "output_type": "stream",
     "text": [
      "Q of state [0, 0] taking action \"right\" was updated from -0.0671342301139 to -79.9731618457\n"
     ]
    },
    {
     "data": {
      "text/plain": [
       "-100.0"
      ]
     },
     "execution_count": 31,
     "metadata": {},
     "output_type": "execute_result"
    }
   ],
   "source": [
    "update_q_value(q, current_state=[0,0], next_state=[0,1], action='right', \n",
    "               alpha=0.8, gamma=0.8, terminal_state=[6,6], verbose=True)"
   ]
  },
  {
   "cell_type": "markdown",
   "metadata": {},
   "source": [
    "This new value really negative value replaces the previous `Q(s=[0,0], a='right')` entry in the table. \n",
    "\n",
    "We can double check this by hand. Recall that the reward is -100 for being in lava, `alpha` and `gamma` are both 0.8, and the previous estimate of $Q(s,a)$ was -0.0671342301139. \n",
    "\n",
    "The only tricky part is that we need to find the highest Q value associated with the successor state. Our starting state was [0,0] and the action we chose (maybe randomly) was 'right', so this means that the successor state is [0,1]. Looks like there are three actions we can take at state [0,1]: down, left, right. Of these, going down has the highest Q value (which is 0.062914). Plugging these values in:"
   ]
  },
  {
   "cell_type": "code",
   "execution_count": 38,
   "metadata": {
    "collapsed": false
   },
   "outputs": [
    {
     "data": {
      "text/plain": [
       "-79.99603164602279"
      ]
     },
     "execution_count": 38,
     "metadata": {},
     "output_type": "execute_result"
    }
   ],
   "source": [
    "new_q = -0.0671342301139 + 0.8*(-100 + 0.8*0.062914 - -0.0671342301139)\n",
    "new_q   "
   ]
  },
  {
   "cell_type": "markdown",
   "metadata": {},
   "source": [
    "Looks good! What if we then went back left, from [0,1] to [0,0]? Q table looks like this now:"
   ]
  },
  {
   "cell_type": "code",
   "execution_count": 37,
   "metadata": {
    "collapsed": false
   },
   "outputs": [
    {
     "data": {
      "text/html": [
       "<div>\n",
       "<table border=\"1\" class=\"dataframe\">\n",
       "  <thead>\n",
       "    <tr style=\"text-align: right;\">\n",
       "      <th></th>\n",
       "      <th>state</th>\n",
       "      <th>str_state</th>\n",
       "      <th>action</th>\n",
       "      <th>value</th>\n",
       "    </tr>\n",
       "  </thead>\n",
       "  <tbody>\n",
       "    <tr>\n",
       "      <th>0</th>\n",
       "      <td>[0, 0]</td>\n",
       "      <td>[0, 0]</td>\n",
       "      <td>down</td>\n",
       "      <td>0.027180</td>\n",
       "    </tr>\n",
       "    <tr>\n",
       "      <th>0</th>\n",
       "      <td>[0, 0]</td>\n",
       "      <td>[0, 0]</td>\n",
       "      <td>right</td>\n",
       "      <td>-79.973162</td>\n",
       "    </tr>\n",
       "    <tr>\n",
       "      <th>1</th>\n",
       "      <td>[0, 1]</td>\n",
       "      <td>[0, 1]</td>\n",
       "      <td>down</td>\n",
       "      <td>0.062914</td>\n",
       "    </tr>\n",
       "    <tr>\n",
       "      <th>1</th>\n",
       "      <td>[0, 1]</td>\n",
       "      <td>[0, 1]</td>\n",
       "      <td>left</td>\n",
       "      <td>-79.978995</td>\n",
       "    </tr>\n",
       "    <tr>\n",
       "      <th>1</th>\n",
       "      <td>[0, 1]</td>\n",
       "      <td>[0, 1]</td>\n",
       "      <td>right</td>\n",
       "      <td>0.043544</td>\n",
       "    </tr>\n",
       "    <tr>\n",
       "      <th>2</th>\n",
       "      <td>[0, 2]</td>\n",
       "      <td>[0, 2]</td>\n",
       "      <td>left</td>\n",
       "      <td>0.073449</td>\n",
       "    </tr>\n",
       "    <tr>\n",
       "      <th>2</th>\n",
       "      <td>[0, 2]</td>\n",
       "      <td>[0, 2]</td>\n",
       "      <td>right</td>\n",
       "      <td>0.010102</td>\n",
       "    </tr>\n",
       "    <tr>\n",
       "      <th>3</th>\n",
       "      <td>[0, 3]</td>\n",
       "      <td>[0, 3]</td>\n",
       "      <td>down</td>\n",
       "      <td>-0.064253</td>\n",
       "    </tr>\n",
       "    <tr>\n",
       "      <th>3</th>\n",
       "      <td>[0, 3]</td>\n",
       "      <td>[0, 3]</td>\n",
       "      <td>left</td>\n",
       "      <td>-0.048198</td>\n",
       "    </tr>\n",
       "    <tr>\n",
       "      <th>3</th>\n",
       "      <td>[0, 3]</td>\n",
       "      <td>[0, 3]</td>\n",
       "      <td>right</td>\n",
       "      <td>0.057700</td>\n",
       "    </tr>\n",
       "  </tbody>\n",
       "</table>\n",
       "</div>"
      ],
      "text/plain": [
       "    state str_state action      value\n",
       "0  [0, 0]    [0, 0]   down   0.027180\n",
       "0  [0, 0]    [0, 0]  right -79.973162\n",
       "1  [0, 1]    [0, 1]   down   0.062914\n",
       "1  [0, 1]    [0, 1]   left -79.978995\n",
       "1  [0, 1]    [0, 1]  right   0.043544\n",
       "2  [0, 2]    [0, 2]   left   0.073449\n",
       "2  [0, 2]    [0, 2]  right   0.010102\n",
       "3  [0, 3]    [0, 3]   down  -0.064253\n",
       "3  [0, 3]    [0, 3]   left  -0.048198\n",
       "3  [0, 3]    [0, 3]  right   0.057700"
      ]
     },
     "execution_count": 37,
     "metadata": {},
     "output_type": "execute_result"
    }
   ],
   "source": [
    "q.head(10)"
   ]
  },
  {
   "cell_type": "markdown",
   "metadata": {},
   "source": [
    "We'd expect this change (see if these values make sense to you):"
   ]
  },
  {
   "cell_type": "code",
   "execution_count": 39,
   "metadata": {
    "collapsed": false
   },
   "outputs": [
    {
     "data": {
      "text/plain": [
       "-79.9789954"
      ]
     },
     "execution_count": 39,
     "metadata": {},
     "output_type": "execute_result"
    }
   ],
   "source": [
    "new_q = 0.018047 + 0.8*(-100 + 0.8*0.027180 - 0.018047)\n",
    "new_q   "
   ]
  },
  {
   "cell_type": "markdown",
   "metadata": {},
   "source": [
    "Which our function should be able to do:"
   ]
  },
  {
   "cell_type": "code",
   "execution_count": 36,
   "metadata": {
    "collapsed": false
   },
   "outputs": [
    {
     "name": "stdout",
     "output_type": "stream",
     "text": [
      "Q of state [0, 1] taking action \"left\" was updated from 0.0180468397972 to -79.9789951242\n"
     ]
    },
    {
     "data": {
      "text/plain": [
       "-100.0"
      ]
     },
     "execution_count": 36,
     "metadata": {},
     "output_type": "execute_result"
    }
   ],
   "source": [
    "update_q_value(q, current_state=[0,1], next_state=[0,0], action='left', \n",
    "               alpha=0.8, gamma=0.8, terminal_state=[6,6], verbose=True)"
   ]
  },
  {
   "cell_type": "markdown",
   "metadata": {},
   "source": [
    "Ok, so these updates are reflecting the fact that being in lava is bad. What would happen to the Q value next to the terminal state, the escape corner at [6,6]? Say we start in state [6, 5] and take a right. Let's pull out the relevant rows of Q values from the table:"
   ]
  },
  {
   "cell_type": "code",
   "execution_count": 40,
   "metadata": {
    "collapsed": false
   },
   "outputs": [
    {
     "data": {
      "text/html": [
       "<div>\n",
       "<table border=\"1\" class=\"dataframe\">\n",
       "  <thead>\n",
       "    <tr style=\"text-align: right;\">\n",
       "      <th></th>\n",
       "      <th>state</th>\n",
       "      <th>str_state</th>\n",
       "      <th>action</th>\n",
       "      <th>value</th>\n",
       "    </tr>\n",
       "  </thead>\n",
       "  <tbody>\n",
       "    <tr>\n",
       "      <th>53</th>\n",
       "      <td>[6, 5]</td>\n",
       "      <td>[6, 5]</td>\n",
       "      <td>down</td>\n",
       "      <td>-0.078210</td>\n",
       "    </tr>\n",
       "    <tr>\n",
       "      <th>53</th>\n",
       "      <td>[6, 5]</td>\n",
       "      <td>[6, 5]</td>\n",
       "      <td>right</td>\n",
       "      <td>0.012938</td>\n",
       "    </tr>\n",
       "    <tr>\n",
       "      <th>53</th>\n",
       "      <td>[6, 5]</td>\n",
       "      <td>[6, 5]</td>\n",
       "      <td>up</td>\n",
       "      <td>0.074726</td>\n",
       "    </tr>\n",
       "  </tbody>\n",
       "</table>\n",
       "</div>"
      ],
      "text/plain": [
       "     state str_state action     value\n",
       "53  [6, 5]    [6, 5]   down -0.078210\n",
       "53  [6, 5]    [6, 5]  right  0.012938\n",
       "53  [6, 5]    [6, 5]     up  0.074726"
      ]
     },
     "execution_count": 40,
     "metadata": {},
     "output_type": "execute_result"
    }
   ],
   "source": [
    "q[q['str_state']=='[6, 5]']"
   ]
  },
  {
   "cell_type": "code",
   "execution_count": 41,
   "metadata": {
    "collapsed": false
   },
   "outputs": [
    {
     "name": "stdout",
     "output_type": "stream",
     "text": [
      "Q of state [6, 5] taking action \"right\" was updated from 0.0129383939485 to 80.0116636145\n"
     ]
    },
    {
     "data": {
      "text/plain": [
       "100.0"
      ]
     },
     "execution_count": 41,
     "metadata": {},
     "output_type": "execute_result"
    }
   ],
   "source": [
    "update_q_value(q, current_state=[6,5], next_state=[6,6], action='right', \n",
    "               alpha=0.8, gamma=0.8, terminal_state=[6,6], verbose=True)"
   ]
  },
  {
   "cell_type": "markdown",
   "metadata": {},
   "source": [
    "Success! The fact that there is a big reward at the end of taking the action 'right' from state [6,5] gets reflected in a higher `Q(s=[6,5], a='right')` value. The rewards leading on from a state get reflected in the Q values of that state."
   ]
  },
  {
   "cell_type": "markdown",
   "metadata": {},
   "source": [
    "### Learning all the Q values iteratively"
   ]
  },
  {
   "cell_type": "markdown",
   "metadata": {},
   "source": [
    "The above little tidbits showed the effect of single updates in isolation, but of course we want to do many, many updates during our training episodes, until the point that the Q value estimates are stable. Once stability/convergence is reached, the hope is that the new table will accurately represent how good it is to be in any state and take any action in our environment. \n",
    "\n",
    "Again, the point of going through all this pain is that these techniques are super general - if you have an environment where you can make actions that are associated with reward, some variant of Q learning is probably applicable. \n",
    "\n",
    "Just one more thing to think about before we run the training. It's actually possible to learn good Q values by randomly walking around the maze (taking actions completely at random) and just observing which rewards come your way. Even though we'd be building better and better estimates of how to optimally behave, we aren't following that advice, and instead are using a totally different, random policy to move around the world. But another approach is to take actions that you think are good, at the same time as you're building your estimates of how good they are. This would mean that your actions would be influenced by the Q values you learn in real time as you learn about them.\n",
    "\n",
    "So basically, we can learn about the optimal policy while being maximally exploratory. Alternatively, as we gather information, we can let this immediately change how we behave. \n",
    "\n",
    "The parameter epsilon ($\\epsilon$) controls to what extent our decisions about actions will be random. Do we *always* want to make random decisions about movement (set $\\epsilon$>1), or only *sometimes* make random decisions (0<$\\epsilon$<1), or *always* go where the utility values look best ($\\epsilon$=0)? Let's try setting `epsilon=0.5`, which will lead to random movements 50% of the time, but 50% of the time we choose the best-looking action (to the best of our knowledge at that point).\n",
    "\n",
    "The function to run the entire simulation is this (explanation below):"
   ]
  },
  {
   "cell_type": "code",
   "execution_count": 45,
   "metadata": {
    "collapsed": true
   },
   "outputs": [],
   "source": [
    "def learn_maze(reward_matrix, lava_grid=True, alpha=0.8, gamma=0.8, epsilon=0.5, \n",
    "               n_episodes=15, t_per_episode=1000, verbose=False, \n",
    "               plot_often=False, plot_episode_end=True):\n",
    "\n",
    "    # initialise q table\n",
    "    q = initialise_q_table(reward_matrix, use_zero=False)\n",
    "\n",
    "    # episodes end when terminal state reached (escaped==True)\n",
    "    for episode in range(int(n_episodes)):\n",
    "\n",
    "        print 'Commencing episode number {0}...'.format(episode)\n",
    "        t = 0\n",
    "        escaped = False\n",
    "        total_reward = 0\n",
    "        \n",
    "        # arbitrarily begin in the top left non-lava corner of the grid\n",
    "        if lava_grid:\n",
    "            current_state = [1,1]\n",
    "            terminal_state = [6,6]  \n",
    "        # if using simple maze\n",
    "        else:\n",
    "            current_state = [0,0]\n",
    "            terminal_state = [5,5]\n",
    "\n",
    "        # while you're in the maze, make decisions about actions\n",
    "        while not escaped and t < t_per_episode:\n",
    "            \n",
    "            # get q table info relating to your current state\n",
    "            current_state_slice = q[q['str_state'] == str(current_state)]\n",
    "\n",
    "            # small chance of acting randomly (epsilon)\n",
    "            if np.random.rand() < epsilon:\n",
    "                valid_moves = np.array(current_state_slice['action'])\n",
    "                action = np.random.choice(valid_moves)\n",
    "\n",
    "            # otherwise, do what looks best\n",
    "            else:\n",
    "                'Taking best action'\n",
    "                best_action_index = np.argmax(np.array(current_state_slice['value']))\n",
    "                action = np.array(current_state_slice['action'])[best_action_index]           \n",
    "\n",
    "            next_state = move(current_state, action)\n",
    "\n",
    "            # get your reward and update your q value\n",
    "            total_reward += update_q_value(q, current_state, next_state, action, alpha=alpha, gamma=gamma,\n",
    "                                           terminal_state=terminal_state, verbose=verbose)\n",
    "\n",
    "            # if you reached the terminal state, you win gg\n",
    "            if np.array_equal(next_state, terminal_state):\n",
    "                print 'Escaped maze in {0} time steps with {1} total reward.'.format(t, total_reward)\n",
    "                escaped = True\n",
    "                \n",
    "                if plot_episode_end:\n",
    "                    plot_q_values(q, reward_matrix, save_q_plot=True, t=t, episode=episode)\n",
    "\n",
    "            # update current state and time step\n",
    "            # occasionally plot q values\n",
    "            if plot_often:\n",
    "                if t == 0 or t % 500 == 0:\n",
    "                    print 'Current state at time {0} is: {1}'.format(t, current_state)\n",
    "                    plot_q_values(q, reward_matrix, save_q_plot=True, t=t, episode=episode)\n",
    "\n",
    "            t += 1\n",
    "            current_state = next_state\n",
    "            \n",
    "    return q"
   ]
  },
  {
   "cell_type": "markdown",
   "metadata": {},
   "source": [
    "This function is a bit dense-looking but is actually composed of very simple things:\n",
    "\n",
    "+ **Line 6**: Initialise the Q values randomly (or to all zeros)\n",
    "+ **Line 9**: We'll let the worm do many different runs through the maze\n",
    "+ **Lines 16-21**: Depending on whether you want to run the basic maze or the advanced maze with the lava moat, the starting position and the position (the terminal state) will vary. \n",
    "+ **Line 24**: Given that you haven't escaped (reached the terminal state), and your time hasn't run out (arbitrary n), make decisions about where to go next in the grid.\n",
    "+ **Line 27**: Just taking a slice of the Q table that relates to our current state, for convenience, since we'll be using these values below.\n",
    "+ **Lines 30 to 32**: Sample a random value between 0 and 1 using np.random.rand(). If this is less than epsilon, choose a random action out of the available ones\n",
    "+ **Lines 35 to 38**: If the random value wasn't less than epsilon, choose the action associated with the highest utility. \n",
    "+ **Line 40**: whichever action you chose, now's the time to get the next state it leads to.\n",
    "+ **Line 43**: Update your Q value by looking ahead one step from this `next_state` (see previous sections for explanation). \n",
    "+ **Lines 47 to 52**: Check if this next state is actually the terminal state. If it is, you reached the end of the maze! Make a self-congratulatory plot of the q table as it stands (if `plot_episode_end==True`) and set `escaped` to `True`.\n",
    "+ **Lines 56 to 59**: A bit of monitoring code - if you'd like to keep a closer tab on the Q values as they evolve, pass `plot_often=True`. \n",
    "+ **Lines 61 and 62**: Incrementing the time step and updating our current state."
   ]
  },
  {
   "cell_type": "markdown",
   "metadata": {},
   "source": [
    "Let's run one episode."
   ]
  },
  {
   "cell_type": "code",
   "execution_count": 59,
   "metadata": {
    "collapsed": false
   },
   "outputs": [
    {
     "name": "stdout",
     "output_type": "stream",
     "text": [
      "Commencing episode number 0...\n",
      "Escaped maze in 3093 time steps with -11142.0 total reward.\n"
     ]
    },
    {
     "data": {
      "image/png": "[encoded data removed]",
      "text/plain": [
       "<matplotlib.figure.Figure at 0x110cb0d50>"
      ]
     },
     "metadata": {},
     "output_type": "display_data"
    }
   ],
   "source": [
    "q = learn_maze(reward_matrix, lava_grid=True, alpha=0.8, gamma=0.8, epsilon=0.5, \n",
    "               n_episodes=1, t_per_episode=10000, verbose=False, plot_often=False, plot_episode_end=True)"
   ]
  },
  {
   "cell_type": "markdown",
   "metadata": {},
   "source": [
    "Let's see that reward grid again?"
   ]
  },
  {
   "cell_type": "code",
   "execution_count": 60,
   "metadata": {
    "collapsed": false
   },
   "outputs": [
    {
     "data": {
      "image/png": "[encoded data removed]",
      "text/plain": [
       "<matplotlib.figure.Figure at 0x110cb0050>"
      ]
     },
     "metadata": {},
     "output_type": "display_data"
    }
   ],
   "source": [
    "plot_q_values(q, reward_matrix, plot_reward=True, save_q_plot=True, t=0, episode=0)"
   ]
  },
  {
   "cell_type": "markdown",
   "metadata": {},
   "source": [
    "Cool, definitely looks inspired by the reward grid, even after just 1 short episode. Given that we were plonked into this world with absolutely zero knowledge about the world (we could only try things out and get feedback from the environment), we now already know quite a bit. "
   ]
  },
  {
   "cell_type": "markdown",
   "metadata": {},
   "source": [
    "Since the heatmap shows averaged Q values per state (i.e. averaged over available actions for each state, for visualisation purposes), it's hard to see some detail. Say in position [2,3], which is in between a -20 and +20 bonus, what are the Q values like?"
   ]
  },
  {
   "cell_type": "code",
   "execution_count": 61,
   "metadata": {
    "collapsed": false
   },
   "outputs": [
    {
     "data": {
      "text/html": [
       "<div>\n",
       "<table border=\"1\" class=\"dataframe\">\n",
       "  <thead>\n",
       "    <tr style=\"text-align: right;\">\n",
       "      <th></th>\n",
       "      <th>state</th>\n",
       "      <th>str_state</th>\n",
       "      <th>action</th>\n",
       "      <th>value</th>\n",
       "    </tr>\n",
       "  </thead>\n",
       "  <tbody>\n",
       "    <tr>\n",
       "      <th>19</th>\n",
       "      <td>[2, 3]</td>\n",
       "      <td>[2, 3]</td>\n",
       "      <td>up</td>\n",
       "      <td>32.333333</td>\n",
       "    </tr>\n",
       "    <tr>\n",
       "      <th>19</th>\n",
       "      <td>[2, 3]</td>\n",
       "      <td>[2, 3]</td>\n",
       "      <td>down</td>\n",
       "      <td>32.333333</td>\n",
       "    </tr>\n",
       "    <tr>\n",
       "      <th>19</th>\n",
       "      <td>[2, 3]</td>\n",
       "      <td>[2, 3]</td>\n",
       "      <td>left</td>\n",
       "      <td>13.333333</td>\n",
       "    </tr>\n",
       "    <tr>\n",
       "      <th>19</th>\n",
       "      <td>[2, 3]</td>\n",
       "      <td>[2, 3]</td>\n",
       "      <td>right</td>\n",
       "      <td>53.333333</td>\n",
       "    </tr>\n",
       "  </tbody>\n",
       "</table>\n",
       "</div>"
      ],
      "text/plain": [
       "     state str_state action      value\n",
       "19  [2, 3]    [2, 3]     up  32.333333\n",
       "19  [2, 3]    [2, 3]   down  32.333333\n",
       "19  [2, 3]    [2, 3]   left  13.333333\n",
       "19  [2, 3]    [2, 3]  right  53.333333"
      ]
     },
     "execution_count": 61,
     "metadata": {},
     "output_type": "execute_result"
    }
   ],
   "source": [
    "q[q['str_state']=='[2, 3]']"
   ]
  },
  {
   "cell_type": "markdown",
   "metadata": {},
   "source": [
    "Ok whew, it's learned that going right is best and going left is worst. As we would expect.\n",
    "\n",
    "What about position [6,5], just one step away from the ultimate goal?"
   ]
  },
  {
   "cell_type": "code",
   "execution_count": 62,
   "metadata": {
    "collapsed": false
   },
   "outputs": [
    {
     "data": {
      "text/html": [
       "<div>\n",
       "<table border=\"1\" class=\"dataframe\">\n",
       "  <thead>\n",
       "    <tr style=\"text-align: right;\">\n",
       "      <th></th>\n",
       "      <th>state</th>\n",
       "      <th>str_state</th>\n",
       "      <th>action</th>\n",
       "      <th>value</th>\n",
       "    </tr>\n",
       "  </thead>\n",
       "  <tbody>\n",
       "    <tr>\n",
       "      <th>53</th>\n",
       "      <td>[6, 5]</td>\n",
       "      <td>[6, 5]</td>\n",
       "      <td>down</td>\n",
       "      <td>-80.025761</td>\n",
       "    </tr>\n",
       "    <tr>\n",
       "      <th>53</th>\n",
       "      <td>[6, 5]</td>\n",
       "      <td>[6, 5]</td>\n",
       "      <td>right</td>\n",
       "      <td>80.013743</td>\n",
       "    </tr>\n",
       "    <tr>\n",
       "      <th>53</th>\n",
       "      <td>[6, 5]</td>\n",
       "      <td>[6, 5]</td>\n",
       "      <td>up</td>\n",
       "      <td>2.790338</td>\n",
       "    </tr>\n",
       "  </tbody>\n",
       "</table>\n",
       "</div>"
      ],
      "text/plain": [
       "     state str_state action      value\n",
       "53  [6, 5]    [6, 5]   down -80.025761\n",
       "53  [6, 5]    [6, 5]  right  80.013743\n",
       "53  [6, 5]    [6, 5]     up   2.790338"
      ]
     },
     "execution_count": 62,
     "metadata": {},
     "output_type": "execute_result"
    }
   ],
   "source": [
    "q[q['str_state']=='[6, 5]']"
   ]
  },
  {
   "cell_type": "markdown",
   "metadata": {},
   "source": [
    "Great, going right is loads better than the other options.\n",
    "\n",
    "Go ahead and see how changing the number of episodes, episode length, and other parameters changes what you learn. For instance, below we are learning over 10 episodes, and we can see that we seem to be escaping the maze in a shorter amount of time and getting more reward. "
   ]
  },
  {
   "cell_type": "code",
   "execution_count": 66,
   "metadata": {
    "collapsed": false
   },
   "outputs": [
    {
     "name": "stdout",
     "output_type": "stream",
     "text": [
      "Commencing episode number 0...\n",
      "Escaped maze in 959 time steps with -6105.0 total reward.\n",
      "Commencing episode number 1...\n",
      "Escaped maze in 395 time steps with -2831.0 total reward.\n",
      "Commencing episode number 2...\n",
      "Escaped maze in 1221 time steps with -5180.0 total reward.\n",
      "Commencing episode number 3...\n",
      "Escaped maze in 311 time steps with -1358.0 total reward.\n",
      "Commencing episode number 4...\n",
      "Escaped maze in 347 time steps with -1860.0 total reward.\n",
      "Commencing episode number 5...\n",
      "Escaped maze in 61 time steps with -1581.0 total reward.\n",
      "Commencing episode number 6...\n",
      "Escaped maze in 427 time steps with -2682.0 total reward.\n",
      "Commencing episode number 7...\n",
      "Escaped maze in 101 time steps with -184.0 total reward.\n",
      "Commencing episode number 8...\n",
      "Escaped maze in 19 time steps with -75.0 total reward.\n",
      "Commencing episode number 9...\n",
      "Escaped maze in 31 time steps with -163.0 total reward.\n"
     ]
    }
   ],
   "source": [
    "q2 = learn_maze(reward_matrix, lava_grid=True, alpha=0.8, gamma=0.8, epsilon=0.5, \n",
    "               n_episodes=10, t_per_episode=10000, verbose=False, plot_often=False, plot_episode_end=False)"
   ]
  },
  {
   "cell_type": "code",
   "execution_count": 67,
   "metadata": {
    "collapsed": false
   },
   "outputs": [
    {
     "data": {
      "image/png": "[encoded data removed]",
      "text/plain": [
       "<matplotlib.figure.Figure at 0x110d62690>"
      ]
     },
     "metadata": {},
     "output_type": "display_data"
    }
   ],
   "source": [
    "plot_q_values(q2, reward_matrix, plot_reward=True, save_q_plot=True, t=0, episode=0)"
   ]
  },
  {
   "cell_type": "markdown",
   "metadata": {},
   "source": [
    "With 10 episodes, it looks like the agent has learned enough about the environment to have a go at traversing it efficiently. "
   ]
  },
  {
   "cell_type": "markdown",
   "metadata": {},
   "source": [
    "### Using Q values to quickly leave the maze\n",
    "\n",
    "Now that we've gathered lots of information about the Q values (though normally we'd train for much, much longer), traversing the maze again is ez mode. For each state we're in, we are just going to greedily choose the available action with the highest utility, and keep doing that until we escape. \n",
    "\n",
    "The code for traversing the grid is simple (extremely simlar to `learn_maze` code above) but plotting is a bit of a pain. We will need two helper functions to make nice GIFs to visualise our path in the maze. The `plot_current_position` function takes your current position and plots it on the learned Q values heatmap. The `make_traversal_gif` function uses [imageio](https://imageio.readthedocs.io/en/latest/) magic to spit out a gif (make sure the `image_path` directory only has .png files that you want included in your GIF... clean out those cat memes). "
   ]
  },
  {
   "cell_type": "code",
   "execution_count": 220,
   "metadata": {
    "collapsed": false
   },
   "outputs": [
    {
     "data": {
      "text/plain": [
       "False"
      ]
     },
     "execution_count": 220,
     "metadata": {},
     "output_type": "execute_result"
    }
   ],
   "source": [
    "not np.array_equal(next_state, terminal_state)"
   ]
  },
  {
   "cell_type": "code",
   "execution_count": 77,
   "metadata": {
    "collapsed": true
   },
   "outputs": [],
   "source": [
    "import matplotlib.patches as patches\n",
    "import glob\n",
    "import imageio\n",
    "from natsort import natsorted"
   ]
  },
  {
   "cell_type": "code",
   "execution_count": 178,
   "metadata": {
    "collapsed": true
   },
   "outputs": [],
   "source": [
    "def traverse_grid(q, lava_grid=True, plot_each_step=True):\n",
    "    \n",
    "    print 'Traversing maze...'\n",
    "    \n",
    "    if lava_grid:\n",
    "        current_state = [1, 1]\n",
    "        terminal_state = [6, 6]\n",
    "    else:\n",
    "        current_state = [0, 0]\n",
    "        terminal_state = [5, 5]\n",
    "    \n",
    "    t=0\n",
    "    \n",
    "    # traverse greedily\n",
    "    while not np.array_equal(next_state, terminal_state):\n",
    "\n",
    "        print 'Current state is: {0}'.format(current_state)\n",
    "        \n",
    "        if plot_each_step:\n",
    "            plot_current_position(current_state, t, q)\n",
    "\n",
    "        # lookup q values of actions in current states\n",
    "        current_state_slice = q[q['str_state'] == str(current_state)]\n",
    "        best_action_index = np.argmax(np.array(current_state_slice['value']))\n",
    "        action = np.array(current_state_slice['action'])[best_action_index] \n",
    "        \n",
    "        # make a move\n",
    "        next_state = move(current_state, action)\n",
    "\n",
    "        # if you won then plot it\n",
    "        if next_state == terminal_state and plot_each_step==True:\n",
    "            plot_current_position(next_state, t+1, q, reached_terminal=True)\n",
    "            \n",
    "        current_state = next_state\n",
    "        t += 1\n",
    "    \n",
    "    # when done, make gif of path taken\n",
    "    make_traversal_gif(t)"
   ]
  },
  {
   "cell_type": "code",
   "execution_count": 179,
   "metadata": {
    "collapsed": false
   },
   "outputs": [],
   "source": [
    "def plot_current_position(current_state, t, q, reward_matrix=reward_matrix, reached_terminal=False):\n",
    "    \n",
    "    # plot heatmap of q values\n",
    "    nrows, ncols = reward_matrix.shape\n",
    "    avg_q_value_by_state = q.groupby('str_state')['value'].mean().values.reshape(nrows,ncols)\n",
    "    plt.figure(figsize=(7,6))\n",
    "    heatmap = sns.heatmap(avg_q_value_by_state)        \n",
    "    \n",
    "    # add rectangle for current position\n",
    "    if not reached_terminal:\n",
    "        heatmap.add_patch(patches.Rectangle((current_state[1], 7-current_state[0]), 1, 1, \n",
    "                                       fill=True, alpha=0.25, linewidth=1))\n",
    "        heatmap.add_patch(patches.Rectangle((current_state[1], 7-current_state[0]), 1, 1, \n",
    "                                       fill=False, color='black', linewidth=5))\n",
    "    else: \n",
    "        heatmap.add_patch(patches.Rectangle((current_state[1], 7-current_state[0]), 1, 1, \n",
    "                                       fill=True, alpha=0.25, linewidth=1))\n",
    "        heatmap.add_patch(patches.Rectangle((current_state[1], 7-current_state[0]), 1, 1, \n",
    "                                       fill=False, color='white', linewidth=8))\n",
    "        \n",
    "    # save fig\n",
    "    heatmap.get_figure().savefig('png_for_gif/' + 'traversing_step_' + str(t) + '.png')"
   ]
  },
  {
   "cell_type": "code",
   "execution_count": 180,
   "metadata": {
    "collapsed": true
   },
   "outputs": [],
   "source": [
    "def make_traversal_gif(t, image_path='png_for_gif/*.png', gif_path='png_for_gif/'):\n",
    "    \n",
    "    # grab images to GIFify\n",
    "    images = natsorted(glob.glob(image_path))\n",
    "    gif_name = gif_path + 'traversal_in_' + str(t) + '_steps_random.gif'\n",
    "\n",
    "    with imageio.get_writer(gif_name, mode='I',  duration=0.5) as writer:\n",
    "        for image_name in images:\n",
    "            image = imageio.imread(image_name)\n",
    "            writer.append_data(image)"
   ]
  },
  {
   "cell_type": "markdown",
   "metadata": {},
   "source": [
    "Now we can run this:"
   ]
  },
  {
   "cell_type": "code",
   "execution_count": null,
   "metadata": {
    "collapsed": true
   },
   "outputs": [],
   "source": [
    "traverse_grid(q2, lava_grid=True, plot_each_step=True)"
   ]
  },
  {
   "cell_type": "markdown",
   "metadata": {},
   "source": [
    "And get this GIF of our path across the maze out as a result:"
   ]
  },
  {
   "cell_type": "markdown",
   "metadata": {
    "collapsed": true
   },
   "source": [
    "![Traversal](https://raw.githubusercontent.com/jagex-data-science/maze_runner/master/traversal_in_10_steps_random_p0.0.gif)"
   ]
  },
  {
   "cell_type": "markdown",
   "metadata": {},
   "source": [
    "This is ok but we can probably do better. "
   ]
  },
  {
   "cell_type": "code",
   "execution_count": 97,
   "metadata": {
    "collapsed": false
   },
   "outputs": [
    {
     "name": "stdout",
     "output_type": "stream",
     "text": [
      "Commencing episode number 0...\n",
      "Escaped maze in 5721 time steps with -18901.0 total reward.\n",
      "Commencing episode number 1...\n",
      "Escaped maze in 69 time steps with -1021.0 total reward.\n",
      "Commencing episode number 2...\n",
      "Escaped maze in 1811 time steps with -6425.0 total reward.\n",
      "Commencing episode number 3...\n",
      "Escaped maze in 653 time steps with -344.0 total reward.\n",
      "Commencing episode number 4...\n",
      "Escaped maze in 397 time steps with -2921.0 total reward.\n",
      "Commencing episode number 5...\n",
      "Escaped maze in 337 time steps with -1730.0 total reward.\n",
      "Commencing episode number 6...\n",
      "Escaped maze in 425 time steps with -53.0 total reward.\n",
      "Commencing episode number 7...\n",
      "Escaped maze in 85 time steps with 83.0 total reward.\n",
      "Commencing episode number 8...\n",
      "Escaped maze in 57 time steps with -914.0 total reward.\n",
      "Commencing episode number 9...\n",
      "Escaped maze in 51 time steps with -272.0 total reward.\n",
      "Commencing episode number 10...\n",
      "Escaped maze in 53 time steps with -916.0 total reward.\n",
      "Commencing episode number 11...\n",
      "Escaped maze in 175 time steps with -1588.0 total reward.\n",
      "Commencing episode number 12...\n",
      "Escaped maze in 21 time steps with -37.0 total reward.\n",
      "Commencing episode number 13...\n",
      "Escaped maze in 43 time steps with -32.0 total reward.\n",
      "Commencing episode number 14...\n",
      "Escaped maze in 33 time steps with 134.0 total reward.\n",
      "Commencing episode number 15...\n",
      "Escaped maze in 29 time steps with -144.0 total reward.\n",
      "Commencing episode number 16...\n",
      "Escaped maze in 27 time steps with 20.0 total reward.\n",
      "Commencing episode number 17...\n",
      "Escaped maze in 83 time steps with 3.0 total reward.\n",
      "Commencing episode number 18...\n",
      "Escaped maze in 17 time steps with -52.0 total reward.\n",
      "Commencing episode number 19...\n",
      "Escaped maze in 17 time steps with 45.0 total reward.\n",
      "Commencing episode number 20...\n",
      "Escaped maze in 23 time steps with -237.0 total reward.\n",
      "Commencing episode number 21...\n",
      "Escaped maze in 25 time steps with -536.0 total reward.\n",
      "Commencing episode number 22...\n",
      "Escaped maze in 21 time steps with -138.0 total reward.\n",
      "Commencing episode number 23...\n",
      "Escaped maze in 41 time steps with -169.0 total reward.\n",
      "Commencing episode number 24...\n",
      "Escaped maze in 19 time steps with -14.0 total reward.\n",
      "Commencing episode number 25...\n",
      "Escaped maze in 25 time steps with 20.0 total reward.\n",
      "Commencing episode number 26...\n",
      "Escaped maze in 29 time steps with 96.0 total reward.\n",
      "Commencing episode number 27...\n",
      "Escaped maze in 17 time steps with 9.0 total reward.\n",
      "Commencing episode number 28...\n",
      "Escaped maze in 21 time steps with 22.0 total reward.\n",
      "Commencing episode number 29...\n",
      "Escaped maze in 13 time steps with 68.0 total reward.\n",
      "Commencing episode number 30...\n",
      "Escaped maze in 17 time steps with 45.0 total reward.\n",
      "Commencing episode number 31...\n",
      "Escaped maze in 19 time steps with -231.0 total reward.\n",
      "Commencing episode number 32...\n",
      "Escaped maze in 21 time steps with -77.0 total reward.\n",
      "Commencing episode number 33...\n",
      "Escaped maze in 17 time steps with 45.0 total reward.\n",
      "Commencing episode number 34...\n",
      "Escaped maze in 39 time steps with -508.0 total reward.\n",
      "Commencing episode number 35...\n",
      "Escaped maze in 35 time steps with -287.0 total reward.\n",
      "Commencing episode number 36...\n",
      "Escaped maze in 17 time steps with -349.0 total reward.\n",
      "Commencing episode number 37...\n",
      "Escaped maze in 11 time steps with -206.0 total reward.\n",
      "Commencing episode number 38...\n",
      "Escaped maze in 43 time steps with -556.0 total reward.\n",
      "Commencing episode number 39...\n",
      "Escaped maze in 21 time steps with -117.0 total reward.\n",
      "Commencing episode number 40...\n",
      "Escaped maze in 15 time steps with 30.0 total reward.\n",
      "Commencing episode number 41...\n",
      "Escaped maze in 41 time steps with -310.0 total reward.\n",
      "Commencing episode number 42...\n",
      "Escaped maze in 23 time steps with -98.0 total reward.\n",
      "Commencing episode number 43...\n",
      "Escaped maze in 29 time steps with -1136.0 total reward.\n",
      "Commencing episode number 44...\n",
      "Escaped maze in 27 time steps with 39.0 total reward.\n",
      "Commencing episode number 45...\n",
      "Escaped maze in 25 time steps with -656.0 total reward.\n",
      "Commencing episode number 46...\n",
      "Escaped maze in 19 time steps with -353.0 total reward.\n",
      "Commencing episode number 47...\n",
      "Escaped maze in 21 time steps with -513.0 total reward.\n",
      "Commencing episode number 48...\n",
      "Escaped maze in 9 time steps with 72.0 total reward.\n",
      "Commencing episode number 49...\n",
      "Escaped maze in 29 time steps with -165.0 total reward.\n",
      "Commencing episode number 50...\n",
      "Escaped maze in 25 time steps with -595.0 total reward.\n",
      "Commencing episode number 51...\n",
      "Escaped maze in 17 time steps with -54.0 total reward.\n",
      "Commencing episode number 52...\n",
      "Escaped maze in 35 time steps with -548.0 total reward.\n",
      "Commencing episode number 53...\n",
      "Escaped maze in 17 time steps with -12.0 total reward.\n",
      "Commencing episode number 54...\n",
      "Escaped maze in 19 time steps with 43.0 total reward.\n",
      "Commencing episode number 55...\n",
      "Escaped maze in 13 time steps with 70.0 total reward.\n",
      "Commencing episode number 56...\n",
      "Escaped maze in 33 time steps with -498.0 total reward.\n",
      "Commencing episode number 57...\n",
      "Escaped maze in 19 time steps with -155.0 total reward.\n",
      "Commencing episode number 58...\n",
      "Escaped maze in 11 time steps with 51.0 total reward.\n",
      "Commencing episode number 59...\n",
      "Escaped maze in 29 time steps with -123.0 total reward.\n",
      "Commencing episode number 60...\n",
      "Escaped maze in 15 time steps with 47.0 total reward.\n",
      "Commencing episode number 61...\n",
      "Escaped maze in 21 time steps with -117.0 total reward.\n",
      "Commencing episode number 62...\n",
      "Escaped maze in 17 time steps with -35.0 total reward.\n",
      "Commencing episode number 63...\n",
      "Escaped maze in 43 time steps with -394.0 total reward.\n",
      "Commencing episode number 64...\n",
      "Escaped maze in 39 time steps with -289.0 total reward.\n",
      "Commencing episode number 65...\n",
      "Escaped maze in 11 time steps with 51.0 total reward.\n",
      "Commencing episode number 66...\n",
      "Escaped maze in 21 time steps with -136.0 total reward.\n",
      "Commencing episode number 67...\n",
      "Escaped maze in 15 time steps with 28.0 total reward.\n",
      "Commencing episode number 68...\n",
      "Escaped maze in 23 time steps with 64.0 total reward.\n",
      "Commencing episode number 69...\n",
      "Escaped maze in 13 time steps with 68.0 total reward.\n",
      "Commencing episode number 70...\n",
      "Escaped maze in 23 time steps with -635.0 total reward.\n",
      "Commencing episode number 71...\n",
      "Escaped maze in 23 time steps with -237.0 total reward.\n",
      "Commencing episode number 72...\n",
      "Escaped maze in 9 time steps with 53.0 total reward.\n",
      "Commencing episode number 73...\n",
      "Escaped maze in 19 time steps with -353.0 total reward.\n",
      "Commencing episode number 74...\n",
      "Escaped maze in 29 time steps with -481.0 total reward.\n",
      "Commencing episode number 75...\n",
      "Escaped maze in 19 time steps with -56.0 total reward.\n",
      "Commencing episode number 76...\n",
      "Escaped maze in 29 time steps with -344.0 total reward.\n",
      "Commencing episode number 77...\n",
      "Escaped maze in 19 time steps with -174.0 total reward.\n",
      "Commencing episode number 78...\n",
      "Escaped maze in 25 time steps with -100.0 total reward.\n",
      "Commencing episode number 79...\n",
      "Escaped maze in 25 time steps with -736.0 total reward.\n",
      "Commencing episode number 80...\n",
      "Escaped maze in 15 time steps with 28.0 total reward.\n",
      "Commencing episode number 81...\n",
      "Escaped maze in 27 time steps with -913.0 total reward.\n",
      "Commencing episode number 82...\n",
      "Escaped maze in 17 time steps with 66.0 total reward.\n",
      "Commencing episode number 83...\n",
      "Escaped maze in 23 time steps with -357.0 total reward.\n",
      "Commencing episode number 84...\n",
      "Escaped maze in 27 time steps with -281.0 total reward.\n",
      "Commencing episode number 85...\n",
      "Escaped maze in 15 time steps with 66.0 total reward.\n",
      "Commencing episode number 86...\n",
      "Escaped maze in 37 time steps with -706.0 total reward.\n",
      "Commencing episode number 87...\n",
      "Escaped maze in 17 time steps with 106.0 total reward.\n",
      "Commencing episode number 88...\n",
      "Escaped maze in 25 time steps with -555.0 total reward.\n",
      "Commencing episode number 89...\n",
      "Escaped maze in 65 time steps with -924.0 total reward.\n",
      "Commencing episode number 90...\n",
      "Escaped maze in 61 time steps with -1008.0 total reward.\n",
      "Commencing episode number 91...\n",
      "Escaped maze in 17 time steps with -12.0 total reward.\n",
      "Commencing episode number 92...\n",
      "Escaped maze in 13 time steps with -208.0 total reward.\n",
      "Commencing episode number 93...\n",
      "Escaped maze in 17 time steps with 106.0 total reward.\n",
      "Commencing episode number 94...\n",
      "Escaped maze in 31 time steps with -83.0 total reward.\n",
      "Commencing episode number 95...\n",
      "Escaped maze in 31 time steps with 54.0 total reward.\n",
      "Commencing episode number 96...\n",
      "Escaped maze in 33 time steps with -443.0 total reward.\n",
      "Commencing episode number 97...\n",
      "Escaped maze in 19 time steps with -96.0 total reward.\n",
      "Commencing episode number 98...\n",
      "Escaped maze in 25 time steps with -612.0 total reward.\n",
      "Commencing episode number 99...\n",
      "Escaped maze in 17 time steps with -311.0 total reward.\n"
     ]
    }
   ],
   "source": [
    "q3 = learn_maze(reward_matrix, lava_grid=True, alpha=0.8, gamma=0.8, epsilon=0.5, \n",
    "               n_episodes=100, t_per_episode=10000, verbose=False, plot_often=False, plot_episode_end=False)"
   ]
  },
  {
   "cell_type": "code",
   "execution_count": 181,
   "metadata": {
    "collapsed": false
   },
   "outputs": [
    {
     "name": "stdout",
     "output_type": "stream",
     "text": [
      "Traversing maze...\n",
      "Current state is: [1, 1]\n",
      "Current state is: [2, 1]\n",
      "Current state is: [3, 1]\n",
      "Current state is: [3, 2]\n",
      "Current state is: [3, 3]\n",
      "Current state is: [3, 4]\n",
      "Current state is: [3, 5]\n",
      "Current state is: [4, 5]\n",
      "Current state is: [5, 5]\n",
      "Current state is: [5, 6]\n"
     ]
    },
    {
     "data": {
      "image/png": "[encoded data removed]",
      "text/plain": [
       "<matplotlib.figure.Figure at 0x119f4af10>"
      ]
     },
     "metadata": {},
     "output_type": "display_data"
    },
    {
     "data": {
      "image/png": "[encoded data removed]",
      "text/plain": [
       "<matplotlib.figure.Figure at 0x11a911cd0>"
      ]
     },
     "metadata": {},
     "output_type": "display_data"
    },
    {
     "data": {
      "image/png": "[encoded data removed]",
      "text/plain": [
       "<matplotlib.figure.Figure at 0x11ab6eed0>"
      ]
     },
     "metadata": {},
     "output_type": "display_data"
    },
    {
     "data": {
      "image/png": "[encoded data removed]",
      "text/plain": [
       "<matplotlib.figure.Figure at 0x11ad577d0>"
      ]
     },
     "metadata": {},
     "output_type": "display_data"
    },
    {
     "data": {
      "image/png": "[encoded data removed]",
      "text/plain": [
       "<matplotlib.figure.Figure at 0x11afa8410>"
      ]
     },
     "metadata": {},
     "output_type": "display_data"
    },
    {
     "data": {
      "image/png": "[encoded data removed]",
      "text/plain": [
       "<matplotlib.figure.Figure at 0x11b1e6b90>"
      ]
     },
     "metadata": {},
     "output_type": "display_data"
    },
    {
     "data": {
      "image/png": "[encoded data removed]",
      "text/plain": [
       "<matplotlib.figure.Figure at 0x11b52e5d0>"
      ]
     },
     "metadata": {},
     "output_type": "display_data"
    },
    {
     "data": {
      "image/png": "[encoded data removed]",
      "text/plain": [
       "<matplotlib.figure.Figure at 0x11b9c8ad0>"
      ]
     },
     "metadata": {},
     "output_type": "display_data"
    },
    {
     "data": {
      "image/png": "[encoded data removed]",
      "text/plain": [
       "<matplotlib.figure.Figure at 0x11b82eed0>"
      ]
     },
     "metadata": {},
     "output_type": "display_data"
    },
    {
     "data": {
      "image/png": "[encoded data removed]",
      "text/plain": [
       "<matplotlib.figure.Figure at 0x11a830490>"
      ]
     },
     "metadata": {},
     "output_type": "display_data"
    },
    {
     "data": {
      "image/png": "[encoded data removed]",
      "text/plain": [
       "<matplotlib.figure.Figure at 0x1195f4b90>"
      ]
     },
     "metadata": {},
     "output_type": "display_data"
    }
   ],
   "source": [
    "traverse_grid(q3, lava_grid=True, plot_each_step=True)"
   ]
  },
  {
   "cell_type": "markdown",
   "metadata": {},
   "source": [
    "Much better. But it's not really picking up on the minor rewards as well as you'd think... maybe the agent needs a bit of a push to do more random exploration? More episodes? Maybe it'll do a better job with [SARSA updates rather than Q learning updates](https://mpatacchiola.github.io/blog/2017/01/29/dissecting-reinforcement-learning-3.html)? See if you can get an improved result. "
   ]
  },
  {
   "cell_type": "markdown",
   "metadata": {},
   "source": [
    "## Summary\n",
    "\n",
    "So, in short, using a very basic version of Q learning, we have a general method for getting solutions to grid worlds. \n",
    "\n",
    "Some ideas of experiments you might want to try (that might also be covered in the next blog post):\n",
    "    1. Effects of increasing number of learning episodes; observing and measuring convergence\n",
    "    2. Cutting episodes short by restricting max t\n",
    "    3. Changing keeness to update previous knowledge (gamma)\n",
    "    4. Changing the learning rate (alpha)\n",
    "    5. Changing the update rule to SARSA\n",
    "    6. Changing probability of random actions (epsilon)\n",
    "    7. Normalisation of Q values by state (e.g. to be between 0 and 1)\n",
    "    8. Playing around with different maze configurations\n",
    "\n",
    "It'd also be nice to have better Q value visualisations - instead of values being averaged in all directions to get one value per state, it would be better to represent action-specific utility values with little arrows with variable thickness (like in [Richard Sutton's grid world demo at 41:00](https://youtu.be/ggqnxyjaKe4?t=2463)). But.. this seemed like a pain to do in matlab. \n",
    "\n",
    "If you found this post particularly interesting or find some mistakes (confession: am noob), let me know :) "
   ]
  }
 ],
 "metadata": {
  "celltoolbar": "Raw Cell Format",
  "kernelspec": {
   "display_name": "Python 2",
   "language": "python",
   "name": "python2"
  },
  "language_info": {
   "codemirror_mode": {
    "name": "ipython",
    "version": 2
   },
   "file_extension": ".py",
   "mimetype": "text/x-python",
   "name": "python",
   "nbconvert_exporter": "python",
   "pygments_lexer": "ipython2",
   "version": "2.7.9"
  }
 },
 "nbformat": 4,
 "nbformat_minor": 2
}
